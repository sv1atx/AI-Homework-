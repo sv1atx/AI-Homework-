{
  "cells": [
    {
      "cell_type": "markdown",
      "metadata": {
        "id": "4Ipf3BFynE7z"
      },
      "source": [
        "## Лабораторна робота №3.\n",
        "***Data Pre-Processing***"
      ]
    },
    {
      "cell_type": "markdown",
      "metadata": {
        "id": "ICZ-L0GmwsCQ"
      },
      "source": [
        "Оцінювання даної роботи буде ураховувати якість ваших візуалізацій (вони можуть незначно відрізнятися від прикладів, але повинні змістовно відображати суть задачі) та опис отриманих вами результатів. При наявності ЛИШЕ візуалізацій без роз'яснень, робота оцінюватися НЕ БУДЕ.\n",
        "\n",
        "Під час виконання вам дозволено користуватися будь-якими зручними для вас бібліотеками для візуалізації. \n",
        "\n",
        "Роботи ідентифіковані як ІДЕНТИЧНІ одразу отримують 0 балів."
      ]
    },
    {
      "cell_type": "markdown",
      "metadata": {
        "id": "VobPhchjwsCQ"
      },
      "source": [
        "Для виконання цієї лабораторної роботи Вам необхідно скористатися вибіркою `titanic.csv`.  \n",
        "Цей датасет ви вже використовували в лабораторній роботі №1 ;)  \n",
        "  \n",
        "  ```NB:побудовані графіки та гістограми мають бути змістовними і візуально зрозумілими.``` "
      ]
    },
    {
      "cell_type": "code",
      "execution_count": null,
      "metadata": {
        "id": "e_VyzaXuwsCR"
      },
      "outputs": [],
      "source": [
        "import numpy as np\n",
        "import pandas as pd\n",
        "import matplotlib.pyplot as plt\n",
        "import seaborn as sns\n",
        "\n",
        "sns.set(style=\"whitegrid\")\n",
        "sns.set_context('talk')"
      ]
    },
    {
      "cell_type": "markdown",
      "metadata": {
        "id": "hgzSHX63wsCR"
      },
      "source": [
        "***Завдання 1.*** Перед початком роботи з будь яким датасетом, необхідно:  \n",
        "- завантажити датасет;  \n",
        "- вивести основну статистичну інформацію по числовим змінним;\n",
        "- вивести розмірність датасету;\n",
        "- перевірити типи змінних і кількість данних по кожній змінній."
      ]
    },
    {
      "cell_type": "code",
      "execution_count": null,
      "metadata": {
        "id": "nudxZy8SW53j"
      },
      "outputs": [],
      "source": [
        "import pandas as pd\n",
        "\n",
        "df = pd.read_csv('titanic.csv')\n",
        "\n",
        "print(\"Основна статистична інформація:\\n\", df.describe())\n",
        "print(\"\\nРозмірність датасету:\\n\", df.shape)\n",
        "print(\"\\nТипи змінних та кількість даних:\", df.info())"
      ]
    },
    {
      "cell_type": "markdown",
      "metadata": {
        "id": "mYji7E9OnE7_"
      },
      "source": [
        "***Завдання 2.*** Визначити кількість пропущених значень по кожному атрибуту"
      ]
    },
    {
      "cell_type": "code",
      "execution_count": null,
      "metadata": {
        "id": "ZeZXVYdVW53k"
      },
      "outputs": [],
      "source": [
        "mis_val = df.isnull().sum()\n",
        "print(\"Кількість пропущених значень по кожному атрибуту:\\n\", mis_val)"
      ]
    },
    {
      "cell_type": "markdown",
      "metadata": {
        "id": "YfruK1Z4W53l"
      },
      "source": [
        "Ваші висновки: Атрибути \"Age\", \"Cabin\" та \"Embarked\" містять пропущені значення"
      ]
    },
    {
      "cell_type": "markdown",
      "metadata": {
        "id": "twyShYEfnE8A"
      },
      "source": [
        "***Завдання 3:*** Побудувати матрицю кореляції "
      ]
    },
    {
      "cell_type": "markdown",
      "metadata": {
        "id": "QpUseKHooUGz"
      },
      "source": [
        "\n",
        "\n",
        "1.   Вирахувати кореляційні коефіціенти для набору данних за методом Пірсона\n",
        "2.   Відобразити отриману матрицю коефіціентів у вигляді теплокарти\n",
        "3. Описати отримані результати, спираючись на значення коефіціентів кореляції\n",
        "\n"
      ]
    },
    {
      "cell_type": "code",
      "execution_count": null,
      "metadata": {
        "id": "wzVwK-d0W53o"
      },
      "outputs": [],
      "source": [
        "numeric_df = df.drop(columns=['Name', 'Ticket', 'Cabin'])\n",
        "numeric_df = pd.get_dummies(numeric_df, columns=['Embarked'])\n",
        "\n",
        "correlation_matrix = numeric_df.corr()\n",
        "\n",
        "plt.figure(figsize=(10, 8))\n",
        "sns.heatmap(correlation_matrix, annot=True, cmap='coolwarm', fmt=\".2f\", linewidths=0.5)\n",
        "plt.title('Матриця кореляції')\n",
        "plt.show()\n"
      ]
    },
    {
      "cell_type": "markdown",
      "metadata": {
        "id": "F8Yjfx0yW53o"
      },
      "source": [
        "Ваші висновки:\n",
        "1. Survived та Pclass: Існує помірна негативна кореляція між цими двома змінними, що означає, що більш високий клас пасажира частіше співвідноситься з виживанням.\n",
        "2. Survived та Sex: Існує висока позитивна кореляція між цими змінними. Це свідчить про те, що жінки мали значно більше шансів на виживання порівняно з чоловіками.\n",
        "3. Survived та Age: Кореляція між цими змінними низька, що означає відсутність значного лінійного зв'язку між віком і шансами на виживання.\n",
        "4. Survived та SibSp: Кореляція між цими змінними також низька, що свідчить про відсутність значного лінійного зв'язку між кількістю родичів на борту та виживанням.\n",
        "5. Survived та Parch: Аналогічно, кореляція між цими змінними також низька.\n",
        "6. Survived та Fare: Існує помірна позитивна кореляція між цими змінними, що означає, що пасажири, які заплатили більше за квиток, мали більше шансів на виживання."
      ]
    },
    {
      "cell_type": "markdown",
      "metadata": {
        "id": "YyYa2kFGqolN"
      },
      "source": [
        "**Завдання 4:** Як ви могли помітити, у нашому датесеті досить багато пропущених значень, зокрема у атрибута віку пасажирів. Робота з такими даними впливае як на результат моделювання так і на загалом уявлення цілісної картини про дані. Тож для того, що позбавитися пропусків ми використаємо заповнення пропущених значень медіаною за групами.\n",
        "\n",
        "\n",
        "\n",
        "1.   Напишіть функцію, що на вхід приймає датафрейм, назву колонки з пропущеними значеннями та список групуючих колонок та повертає датафрейм з заповненими пропущеними значеннями\n",
        "2.   Наведіть приклад роботи функції та зробіть перевірку на пропущені значення (дивись **завдання 2**)\n",
        "\n"
      ]
    },
    {
      "cell_type": "code",
      "execution_count": null,
      "metadata": {
        "id": "80R9SBSUW53r"
      },
      "outputs": [],
      "source": [
        "def fill_missing_values(df, column_name, groupby_columns):\n",
        "    filled_df = df.copy()\n",
        "    if column_name == 'Cabin':\n",
        "        filled_df[column_name].fillna(method='ffill', inplace=True)\n",
        "    elif column_name == 'Embarked':\n",
        "        filled_df[column_name].fillna(df[column_name].mode()[0], inplace=True)\n",
        "    else:\n",
        "        filled_df[column_name] = filled_df.groupby(groupby_columns)[column_name].transform(lambda x: x.fillna(x.median()))\n",
        "    return filled_df\n",
        "\n",
        "filled_df = fill_missing_values(df, 'Age', ['Pclass', 'Sex'])\n",
        "filled_df = fill_missing_values(filled_df, 'Cabin', ['Pclass'])\n",
        "filled_df = fill_missing_values(filled_df, 'Embarked', ['Pclass', 'Sex'])\n",
        "\n",
        "missing_values_count = filled_df.isnull().sum()\n",
        "print(missing_values_count)"
      ]
    },
    {
      "cell_type": "markdown",
      "metadata": {
        "id": "J5in8OtVW53s"
      },
      "source": [
        "Ваші висновки:\n",
        "За результатами заповнення пропущених значень за допомогою медіани за групами, ми успішно обробили стовпець \"Age\", знаходячи медіану в кожній групі, утвореній за стовпцями \"Pclass\" та \"Sex\". Але заповнення пропущених значень у стовпцях \"Cabin\" та \"Embarked\" призвело до помилки, оскільки ці стовпці містять нечислові значення, які не можуть бути оброблені методом медіани."
      ]
    },
    {
      "cell_type": "markdown",
      "metadata": {
        "id": "XEQ5bESqnE8D"
      },
      "source": [
        " \n",
        "***Завдання 5:*** В моделях машинного навчання інснує велика проблема опрацювання безперервних змінних. Потрібно перетворити безперервні значення в категоріальні. \n",
        "\n",
        "Максимальний вік пасажира - ```80 років```.\n",
        "\n",
        "Отже, давайте розділимо діапазон від ```0 до 80``` на ```5``` осередків. \n",
        "\n",
        "\n",
        "Додайте до нашого датасету нову колонку ```Age_bin```, в якій будуть значення ```0, 1, 2, 3, 4```відповідно кожній віковій групі.\n",
        "\n",
        "Побудуйте графік, який відображає кількість виживших у кожній віковій категорії.\n",
        "\n",
        "\n",
        "\n"
      ]
    },
    {
      "cell_type": "code",
      "execution_count": null,
      "metadata": {
        "id": "gyHjHzJuW53v"
      },
      "outputs": [],
      "source": [
        "import numpy as np\n",
        "\n",
        "bins = np.linspace(0, 80, 6)\n",
        "df['Age_bin'] = np.digitize(df['Age'], bins) - 1\n",
        "\n",
        "plt.figure(figsize=(10, 6))\n",
        "sns.countplot(x='Age_bin', hue='Survived', data=df)\n",
        "plt.xlabel('Вікова категорія')\n",
        "plt.ylabel('Кількість')\n",
        "plt.title('Кількість виживших за віковою категорією')\n",
        "plt.legend(title='Survived', labels=['Ні', 'Та'])\n",
        "plt.xticks(ticks=np.arange(0, 5), labels=['0-16', '17-32', '33-48', '49-64', '65-80'])\n",
        "plt.show()\n"
      ]
    },
    {
      "cell_type": "markdown",
      "metadata": {
        "id": "r0autGVZW53x"
      },
      "source": [
        "Ваші висновки:\n",
        "Згідно графіку кількості виживших за віковою категорією видно, що діти віком від 0 до 16 років мали вищий шанс вижити, порівняно з іншими віковими групами. Також можна помітити, що дорослі пасажири у віці від 17 до 32 років мали високий рівень смертності порівняно з іншими віковими категоріями."
      ]
    },
    {
      "cell_type": "markdown",
      "metadata": {
        "id": "XMFZCUssnE8E"
      },
      "source": [
        "***Завдання 6:*** Так як змінна ```fare``` також є неперервною її треба закодувати до ```порядкової шкали``` \n",
        "Для цього скоритайтесь функцією ```pandas.qcut```.\n",
        "[pandas.qcut](https://pandas.pydata.org/pandas-docs/stable/reference/api/pandas.qcut.html)  \n",
        "- необхідно перевірити, чи є вірною гіпотеза про те, що кількість виживших пасажирів для квартильних значеннь змінної ```fare``` відрізняється, та чи доцільно використовувати кодування на цю змінну(для подальшої роботи з закодованою фичею)"
      ]
    },
    {
      "cell_type": "code",
      "execution_count": null,
      "metadata": {
        "id": "PRAr5pqGW53z"
      },
      "outputs": [],
      "source": [
        "fare_quartiles = pd.qcut(df['Fare'], q=4, labels=False)\n",
        "\n",
        "df['Fare_quartile'] = fare_quartiles\n",
        "survival_by_fare_quartile = df.groupby('Fare_quartile')['Survived'].mean()\n",
        "print(survival_by_fare_quartile)"
      ]
    },
    {
      "cell_type": "markdown",
      "metadata": {
        "id": "mvSsyPQ6W530"
      },
      "source": [
        "Ваші висновки:\n",
        "Якщо середні значення виживших відрізняються значно між квартилями, то кодування на порядкову шкалу може бути корисним, оскільки це дозволить врахувати відмінності в оплаті квитків як фактор, який впливає на виживання. Однак, якщо різниця не є значною, то може бути краще використовувати оригінальну числову змінну fare."
      ]
    },
    {
      "cell_type": "markdown",
      "metadata": {
        "id": "ReaEkYnbnE8F"
      },
      "source": [
        "***Завдання 7:*** Необхідно створити нові змінні ```Family_size``` та ```Alone``` та проаналізувати їх. Змінна ```Family_size``` передає суму змінних ```Parch``` та ```SibSp```. Змінна ```Family_size``` буде відібражати комбіновані дані, які необхідні для перевірки гіпотези, що ```виживання пасажирів залежіть від кількості членів їх сім'ї```. Змінна ```Alone``` позначає наявніть сім'ї."
      ]
    },
    {
      "cell_type": "code",
      "execution_count": null,
      "metadata": {
        "id": "2Es3kXxsW533"
      },
      "outputs": [],
      "source": [
        "df['Family_size'] = df['Parch'] + df['SibSp']\n",
        "\n",
        "df['Alone'] = 0  # 0 - пасажир не сам\n",
        "df.loc[df['Family_size'] == 0, 'Alone'] = 1  # 1 - пасажир сам на борту\n",
        "print(df[['Parch', 'SibSp', 'Family_size', 'Alone']].head())\n"
      ]
    },
    {
      "cell_type": "markdown",
      "metadata": {
        "id": "cjxRCNkhW534"
      },
      "source": [
        "Ваші висновки: \n",
        "Після створення нових змінних Family_size та Alone ми отримали додаткові дані, які дозволяють нам краще розуміти взаємозв'язок між кількістю членів сім'ї та виживанням пасажирів. Змінна Family_size відображає загальну кількість членів сім'ї для кожного пасажира. Змінна Alone вказує на те, чи був пасажир на борту самостійно, без супутників."
      ]
    },
    {
      "cell_type": "markdown",
      "metadata": {
        "id": "8tynNQe7nE8H"
      },
      "source": [
        "***Завдання 8:*** Видалити атрибути які є ***НЕрелевантними*** або містять багато пропущених значень. Аргументувати свій вибір."
      ]
    },
    {
      "cell_type": "code",
      "execution_count": null,
      "metadata": {
        "id": "kV_ASMeJW536"
      },
      "outputs": [],
      "source": [
        "df.drop(columns=['Cabin', 'Ticket', 'Name', 'PassengerId'], inplace=True)\n",
        "print(\"Розмірність датасету після видалення: \", df.shape)"
      ]
    },
    {
      "cell_type": "markdown",
      "metadata": {
        "id": "9rcPcOCsW537"
      },
      "source": [
        "Ваші висновки: Прийнято рішення видалити атрибути Cabin, Ticket, Name та PassengerId з датасету. Це було зроблено через те, що ці атрибути містять або багато пропущених значень, або не є значущими для аналізу в контексті виживання пасажирів на Титаніку."
      ]
    },
    {
      "cell_type": "markdown",
      "metadata": {
        "id": "jrkDsg1pnE8I"
      },
      "source": [
        "***Завдання 9:*** Перетворіть змінні ```Sex```, ```Embarked``` та ```Title``` в числові значення\n"
      ]
    },
    {
      "cell_type": "code",
      "execution_count": null,
      "metadata": {
        "id": "149CTPLHW538"
      },
      "outputs": [],
      "source": [
        "df = pd.get_dummies(df, columns=['Sex'], drop_first=True)\n",
        "df = pd.get_dummies(df, columns=['Embarked'], drop_first=True)\n",
        "\n",
        "if 'Title' in df.columns:\n",
        "    df = pd.get_dummies(df, columns=['Title'], drop_first=True)"
      ]
    },
    {
      "cell_type": "markdown",
      "metadata": {
        "id": "Qac-7FSRW539"
      },
      "source": [
        "Ваші висновки:\n",
        "Після перетворення змінних Sex, Embarked та Title в числові значення ми отримали нові бінарні стовпці для кожної категорії. Це дозволяє нам представити ці дані у вигляді, який можна легко використовувати в аналізі або моделюванні."
      ]
    },
    {
      "cell_type": "markdown",
      "metadata": {
        "id": "vzHF2_WTnE8K"
      },
      "source": [
        "***Завдання 10.*** Побудувати графіки всіх категоріальних змінних та проаналізувати скільки кожна категорія містить даних\n",
        "\n",
        "1.   виділити категоріальні змінні \n",
        "2.   побудувати сітку графіків кількості спотрережень по кожній категорії\n",
        "\n"
      ]
    },
    {
      "cell_type": "code",
      "execution_count": null,
      "metadata": {
        "id": "cT1yoN3gwsCc"
      },
      "outputs": [],
      "source": [
        "import seaborn as sns\n",
        "import matplotlib.pyplot as plt\n",
        "\n",
        "categorical_variables = df.select_dtypes(include=['object']).columns\n",
        "\n",
        "if len(categorical_variables) == 0:\n",
        "    print(\"Немає категоріальних змінних для побудови графіків.\")\n",
        "else:\n",
        "    plt.figure(figsize=(15, 10))\n",
        "    for i, column in enumerate(categorical_variables, 1):\n",
        "        plt.subplot(2, 2, i)\n",
        "        sns.countplot(x=column, data=df)\n",
        "        plt.title(f\"Кількість спостережень за {column}\")\n",
        "        plt.xticks(rotation=45)\n",
        "    plt.tight_layout()\n",
        "    plt.show()\n"
      ]
    },
    {
      "cell_type": "markdown",
      "metadata": {
        "id": "was8uievW53_"
      },
      "source": [
        "Ваші висновки:"
      ]
    },
    {
      "cell_type": "markdown",
      "metadata": {
        "id": "8W168W_-wsCc"
      },
      "source": [
        "***Завдання 11.*** Побудувати діаграми розподілу всіх числових змінних"
      ]
    },
    {
      "cell_type": "code",
      "execution_count": null,
      "metadata": {
        "id": "SfDK5Kr_wsCc"
      },
      "outputs": [],
      "source": [
        "numeric_variables = df.select_dtypes(include=['int', 'float']).columns\n",
        "\n",
        "for column in numeric_variables:\n",
        "    plt.figure(figsize=(8, 6))\n",
        "    sns.histplot(df[column], kde=True)\n",
        "    plt.title(f'Розподіл значень змінної {column}')\n",
        "    plt.xlabel(column)\n",
        "    plt.ylabel('Частота')\n",
        "    plt.show()\n"
      ]
    },
    {
      "cell_type": "markdown",
      "metadata": {
        "id": "lmLXPCaDW54B"
      },
      "source": [
        "Ваші висновки: Ми можемо визначити, чи розподіл нормальний, чи ж є він скошений (праворуч або ліворуч). Також ми можемо оцінити наявність викидів або незвичайних значень."
      ]
    },
    {
      "cell_type": "markdown",
      "metadata": {
        "id": "bxCl26iPwsCc"
      },
      "source": [
        "##Співвіднонешшя між всіма числовими змінними \n",
        "  \n",
        "***Завдання 12.*** В деяких випадках візуалізація співвідношення між змінними (числовими, категоріальними) дає можливість побачити викиди в змінних та знайти приховані тенденції і виділити навіть додаткові змінні. Тому, необхідно:\n",
        "1) побудувати графіки співвідношення між всіма числовими змінними.  \n",
        "2) описати отримані співвідношення і запропонувати як їх можна (чи не можна) використати"
      ]
    },
    {
      "cell_type": "code",
      "execution_count": null,
      "metadata": {
        "id": "UXvfNj3vwsCc"
      },
      "outputs": [],
      "source": [
        "sns.pairplot(df)\n",
        "plt.show()"
      ]
    },
    {
      "cell_type": "markdown",
      "metadata": {
        "id": "A0CcLe29W54D"
      },
      "source": [
        "Ваші висновки: Після аналізу графіків співвідношення між змінними ми можемо виробити висновки про те, які змінні можна використати для подальшого аналізу та моделювання, і які можуть бути менш важливими або непотрібними."
      ]
    },
    {
      "cell_type": "markdown",
      "metadata": {
        "id": "vv4URR2twsCd"
      },
      "source": [
        "**Кожне правильно виконане завдання буде оцінюватись в ```2 бали```.**"
      ]
    }
  ],
  "metadata": {
    "colab": {
      "collapsed_sections": [],
      "name": "Task3_basic_ai_AD.ipynb",
      "provenance": []
    },
    "kernelspec": {
      "display_name": "Python 3",
      "language": "python",
      "name": "python3"
    },
    "language_info": {
      "codemirror_mode": {
        "name": "ipython",
        "version": 3
      },
      "file_extension": ".py",
      "mimetype": "text/x-python",
      "name": "python",
      "nbconvert_exporter": "python",
      "pygments_lexer": "ipython3",
      "version": "3.12.2"
    }
  },
  "nbformat": 4,
  "nbformat_minor": 0
}
