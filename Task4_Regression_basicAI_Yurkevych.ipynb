{
 "cells": [
  {
   "cell_type": "markdown",
   "metadata": {
    "id": "fw_CSA8lOFYZ"
   },
   "source": [
    "## Лабораторна робота 4. **REGRESSION** 📈"
   ]
  },
  {
   "cell_type": "markdown",
   "metadata": {
    "id": "IeMC6xnfOFYa"
   },
   "source": [
    "# Опис вибірки \"Motorbike Ambulance Calls\""
   ]
  },
  {
   "cell_type": "markdown",
   "metadata": {
    "id": "kWTcPp7HOFYb"
   },
   "source": [
    "\n",
    "Аварії за участю мотоциклів та відповідні виклики швидкої допомоги сильно залежать від екологічних та сезонних умов, таких як погодні умови, опади, день тижня, сезон, година дня тощо. Дані збирались протягом двох років щогодини та потім співвідносилися з відповідною погодою та сезонністю."
   ]
  },
  {
   "cell_type": "markdown",
   "metadata": {
    "id": "YtPLqroLOFYc"
   },
   "source": [
    "Основні характеристики вибірки `motorbike_ambulance_calls.csv`:\n",
    "\n",
    "              - index: record index\n",
    "              - date : date\n",
    "              - season : season (1:springer, 2:summer, 3:fall, 4:winter)\n",
    "              - yr : year (0: 2011, 1:2012)\n",
    "              - mnth : month ( 1 to 12)\n",
    "              - hr : hour (0 to 23)\n",
    "              - holiday : whether day is holiday or not\n",
    "              - weekday : day of the week\n",
    "              - workingday : if day is neither weekend nor holiday is 1, otherwise is 0.\n",
    "              -  weathersit :\n",
    "                      - 1: Clear, Few clouds, Partly cloudy, Partly cloudy\n",
    "                      - 2: Mist + Cloudy, Mist + Broken clouds, Mist + Few clouds, Mist\n",
    "                      - 3: Light Snow, Light Rain + Thunderstorm + Scattered clouds, Light Rain + Scattered clouds\n",
    "                      - 4: Heavy Rain + Ice Pallets + Thunderstorm + Mist, Snow + Fog\n",
    "              - temp : Normalized temperature in Celsius. The values are divided to 41 (max)\n",
    "              - atemp: Normalized feeling temperature in Celsius. The values are divided to 50 (max)\n",
    "              - hum: Normalized humidity. The values are divided to 100 (max)\n",
    "              - windspeed: Normalized wind speed. The values are divided to 67 (max)\n",
    "              - cnt: count of total ambulance calls"
   ]
  },
  {
   "cell_type": "markdown",
   "metadata": {
    "id": "LYXSslcIOFYc"
   },
   "source": [
    "## Імпорт необхідних бібліотек та завантаження даних"
   ]
  },
  {
   "cell_type": "markdown",
   "metadata": {
    "id": "pTFWHvM6OFYc"
   },
   "source": [
    "**Завдання 1** підготовка даних до опрацювання\n",
    "\n",
    "1. завантажте вибірку `motorbike_ambulance_calls.csv`;   \n",
    "2. підключіть необхідні бібліотеки;  \n",
    "3. вивести основну статистичну інформацію по числовим змінним;  \n",
    "4. окремо вивести максимальні та мінімальні значення по всім змінним;  \n",
    "5. вивести розмірність датасету;"
   ]
  },
  {
   "cell_type": "code",
   "execution_count": null,
   "metadata": {
    "id": "xmwhs0cnOFYd"
   },
   "outputs": [],
   "source": [
    "import pandas as pd\n",
    "import numpy as np\n",
    "import scipy as sc\n",
    "from sklearn.model_selection import train_test_split\n",
    "from sklearn.linear_model import LinearRegression\n",
    "from sklearn.metrics import mean_squared_error, r2_score\n",
    "import matplotlib.pyplot as plt\n",
    "import seaborn as sns\n",
    "%matplotlib inline"
   ]
  },
  {
   "cell_type": "code",
   "execution_count": null,
   "metadata": {
    "id": "7qXErcPRPH6R"
   },
   "outputs": [],
   "source": [
    "import pandas as pd\n",
    "\n",
    "def get_data(data_path: str):\n",
    "    data = pd.read_csv(data_path)\n",
    "    return data\n",
    "\n",
    "data = get_data('motorbike_ambulance_calls.csv')\n",
    "\n",
    "print(data.describe())\n",
    "\n",
    "print(\"Максимальні значення:\", data.max())\n",
    "print(\"Мінімальні значення:\", data.min())\n",
    "print(\"Розмірність датасету:\", data.shape)\n"
   ]
  },
  {
   "cell_type": "markdown",
   "metadata": {
    "id": "Ky9g0TdPOFYd"
   },
   "source": [
    "**Завдання 2** перевірити типи даних та перевірте кількість даних по кожній змінній."
   ]
  },
  {
   "cell_type": "code",
   "execution_count": null,
   "metadata": {
    "id": "5ofgwU6IOFYe"
   },
   "outputs": [],
   "source": [
    "print(\"Типи даних:\\n\", data.dtypes)\n",
    "print(\"\\nКількість даних по кожній змінній:\\n\", data.count())"
   ]
  },
  {
   "cell_type": "markdown",
   "metadata": {
    "id": "DINUFxTsOFYe"
   },
   "source": [
    "**Завдання 3** пепевірте всі змінні на наявність пропусків."
   ]
  },
  {
   "cell_type": "code",
   "execution_count": null,
   "metadata": {
    "id": "PFa4iiowOFYe"
   },
   "outputs": [],
   "source": [
    "print(\"Наявність пропусків у кожній змінній:\\n\", data.isnull().sum())"
   ]
  },
  {
   "cell_type": "markdown",
   "metadata": {
    "id": "fJadTHp_PfVK"
   },
   "source": [
    "**Висновки з 1-3 завдання (детальні)**"
   ]
  },
  {
   "cell_type": "markdown",
   "metadata": {
    "id": "917TbDlJPuRO"
   },
   "source": [
    "Загалом, дані виглядають досить чистими, без пропущених значень, що полегшує їх подальший аналіз та обробку. Типи даних відповідають очікуваним типам для кожної змінної. Надалі можна переходити до більш детального аналізу даних та побудови моделей.\n",
    "\n"
   ]
  },
  {
   "cell_type": "markdown",
   "metadata": {
    "id": "x-vbKqLdOFYf"
   },
   "source": [
    "**Завдання 4** перетворіть змінну `date` в **date type**. Визначте часові межі датасету."
   ]
  },
  {
   "cell_type": "code",
   "execution_count": null,
   "metadata": {
    "id": "fvpiaJGaOFYf"
   },
   "outputs": [],
   "source": [
    "from datetime import datetime\n",
    "\n",
    "def tranform_date(df: pd.DataFrame, date_col_name: str):\n",
    "    df[date_col_name] = pd.to_datetime(df[date_col_name])\n",
    "    return df\n",
    "\n",
    "data = tranform_date(data, 'date')\n",
    "\n",
    "def get_time_limits(df: pd.DataFrame, date_col_name: str):\n",
    "    first_day = df[date_col_name].min()\n",
    "    last_day = df[date_col_name].max()\n",
    "    print(f\"Перший день датасету - {first_day}.\\nОстанній день датасету - {last_day}\")\n",
    "\n",
    "get_time_limits(data, 'date')\n"
   ]
  },
  {
   "cell_type": "markdown",
   "metadata": {},
   "source": [
    "**Висновок:** Було здійснено перетворення стовпця 'date' у тип даних 'date' за допомогою функції pd.to_datetime(). Це дозволяє коректно працювати з датами, забезпечуючи правильне їхнє відображення та порівняння.\n",
    "\n",
    "Після цього були визначені часові межі датасету за допомогою визначення мінімальної та максимальної дати у стовпці 'date'. Це дозволило отримати перший та останній дні з датасету."
   ]
  },
  {
   "cell_type": "markdown",
   "metadata": {
    "id": "t47EclTiQ7fS"
   },
   "source": [
    "#Аналіз категоріальних змінних"
   ]
  },
  {
   "cell_type": "markdown",
   "metadata": {
    "id": "hNQ7h5iuOFYf"
   },
   "source": [
    "**Завдання 5** виділити категоріальні змінні в окремий датасет\n",
    "\n",
    "\n",
    "\n",
    "\n",
    "\n"
   ]
  },
  {
   "cell_type": "code",
   "execution_count": null,
   "metadata": {
    "id": "JY8QiSCcOFYg"
   },
   "outputs": [],
   "source": [
    "data_categorical = data.select_dtypes(include=['object'])\n",
    "print(data_categorical)"
   ]
  },
  {
   "cell_type": "markdown",
   "metadata": {
    "id": "2fiDriKxOFYg"
   },
   "source": [
    "**Завдання 6** перетворіть змінну `season` в числову шкалу."
   ]
  },
  {
   "cell_type": "code",
   "execution_count": null,
   "metadata": {
    "id": "SCIk-1AMRDqH"
   },
   "outputs": [],
   "source": [
    "def encode_season(df: pd.DataFrame, season_col_name: str):\n",
    "    # Нічого не змінюємо, оскільки значення вже в числовій шкалі\n",
    "    return df\n",
    "\n",
    "data = encode_season(data, 'season')\n",
    "print(data.head())"
   ]
  },
  {
   "cell_type": "markdown",
   "metadata": {
    "id": "RPORQyRoOFYg"
   },
   "source": [
    "**Завдання 7** побудувати графіки `countplot` по всім категоріальним змінним"
   ]
  },
  {
   "cell_type": "code",
   "execution_count": null,
   "metadata": {
    "id": "nnBYo2YrOFYh"
   },
   "outputs": [],
   "source": [
    "import seaborn as sns\n",
    "import matplotlib.pyplot as plt\n",
    "\n",
    "fig, ax = plt.subplots(2, 4, figsize=(20, 10))\n",
    "\n",
    "for variable, subplot in zip(data_categorical.columns, ax.flatten()):\n",
    "    sns.countplot(data_categorical[variable], ax=subplot)\n",
    "    subplot.set_title(variable)\n",
    "\n",
    "plt.tight_layout()\n",
    "plt.show()\n"
   ]
  },
  {
   "cell_type": "markdown",
   "metadata": {
    "id": "Rx8E_9EXRbWF"
   },
   "source": [
    "**Висновки з 5-7 завдання (детальні)**"
   ]
  },
  {
   "cell_type": "markdown",
   "metadata": {
    "id": "2Nu4VpZPRbWP"
   },
   "source": [
    "1. Було створено окремий датасет data_categorical, який містить лише категоріальні змінні з основного датасету.\n",
    "Для цього було використано метод select_dtypes() бібліотеки pandas, який дозволяє обирати стовпці за типом даних.\n",
    "\n",
    "2. Змінна season була залишена без змін, оскільки її значення вже є у числовій шкалі.\n",
    "Функція encode_season() була створена, але вона не змінювала значення змінної season.\n",
    "\n",
    "3. Було побудовано графіки countplot для всіх категоріальних змінних у датасеті data_categorical."
   ]
  },
  {
   "cell_type": "markdown",
   "metadata": {
    "id": "MPRBUU2HRmId"
   },
   "source": [
    "#Аналіз числових змінних"
   ]
  },
  {
   "cell_type": "markdown",
   "metadata": {
    "id": "PfHcV5tIOFYh"
   },
   "source": [
    "**Завдання 8** виділити числові змінні в окремий датасет"
   ]
  },
  {
   "cell_type": "code",
   "execution_count": null,
   "metadata": {
    "id": "GgCMFLdjOFYh"
   },
   "outputs": [],
   "source": [
    "data_numerical = data.select_dtypes(include='number')\n",
    "print(data_numerical)"
   ]
  },
  {
   "cell_type": "markdown",
   "metadata": {
    "id": "RoA2FaycOFYi"
   },
   "source": [
    "**Завдання 9** побудуйте гістограми розподілу по всім числовим змінним"
   ]
  },
  {
   "cell_type": "code",
   "execution_count": null,
   "metadata": {
    "id": "KYYglRPzOFYi"
   },
   "outputs": [],
   "source": [
    "import matplotlib.pyplot as plt\n",
    "\n",
    "fig, ax = plt.subplots(figsize=(20, 10))\n",
    "data_numerical.hist(ax=ax)\n",
    "plt.tight_layout()\n",
    "plt.show()\n"
   ]
  },
  {
   "cell_type": "markdown",
   "metadata": {
    "id": "j2i-eYdpOFYi"
   },
   "source": [
    "**Завдання 10** побудуйте гістограму розподілу цільової змінної та розрахуйте коефіціент нахилу"
   ]
  },
  {
   "cell_type": "code",
   "execution_count": null,
   "metadata": {
    "id": "FXcXUEGPOFYi"
   },
   "outputs": [],
   "source": [
    "plt.figure(figsize=(10, 6))\n",
    "plt.hist(data['cnt'], bins=30, color='skyblue', edgecolor='black')\n",
    "plt.xlabel('Count of Ambulance Calls')\n",
    "plt.ylabel('Frequency')\n",
    "plt.title('Distribution of Count of Ambulance Calls')\n",
    "plt.grid(True)\n",
    "plt.show()\n",
    "\n",
    "s = data['cnt'].skew()\n",
    "print(\"Коефіцієнт нахилу:\", s)"
   ]
  },
  {
   "cell_type": "markdown",
   "metadata": {
    "id": "FMaDSFrySVnk"
   },
   "source": [
    "**Висновки з 8-10 завдання (детальні)**"
   ]
  },
  {
   "cell_type": "markdown",
   "metadata": {
    "id": "MxYx4wDLSVnu"
   },
   "source": [
    "1. Було створено окремий датасет data_numerical, який містить лише числові змінні з основного датасету.\n",
    "2. Була побудована гістограма розподілу для кожної числової змінної у датасеті data_numerical.\n",
    "Гістограми допомагають візуалізувати розподіл кожної змінної і отримати уявлення про її розподіл. \n",
    "3. Була побудована гістограма розподілу для цільової змінної cnt, яка представляє кількість викликів швидкої допомоги.\n",
    "Розрахований коефіцієнт нахилу для цільової змінної. Значення коефіцієнта нахилу вказує на скошення розподілу цільової змінної: позитивне значення вказує на скошення вправо, а негативне - на скошення вліво."
   ]
  },
  {
   "cell_type": "markdown",
   "metadata": {
    "id": "tW6lRMmXSe37"
   },
   "source": [
    "#Аналіз взаємозв'язків між числовими і категоріальними змінними"
   ]
  },
  {
   "cell_type": "markdown",
   "metadata": {
    "id": "SVUUZyAMOFYj"
   },
   "source": [
    "**Завдання 11** побудуйте графіки співвідношення `scatterplot` між всіма числовими змінними і цільовою змінною `cnt`"
   ]
  },
  {
   "cell_type": "code",
   "execution_count": null,
   "metadata": {
    "id": "Mq59RzhGOFYj"
   },
   "outputs": [],
   "source": [
    "fig, ax = plt.subplots(2, 2, figsize=(15, 10))\n",
    "\n",
    "for var, subplot in zip(data_numerical.drop('cnt', axis=1), ax.flatten()):\n",
    "    sns.scatterplot(x=var, y='cnt', data=data_numerical, ax=subplot)\n",
    "\n",
    "plt.tight_layout()\n",
    "plt.show()"
   ]
  },
  {
   "cell_type": "markdown",
   "metadata": {
    "id": "y_fW_ZqCOFYj"
   },
   "source": [
    "**Завдання 12** побудуйте графіки співвідношення `boxplot`[boxplot](https://matplotlib.org/stable/gallery/statistics/boxplot_demo.html) між категоріальними змінними і цільовою змінною `cnt`."
   ]
  },
  {
   "cell_type": "code",
   "execution_count": null,
   "metadata": {
    "id": "S3TxCC3XOFYj"
   },
   "outputs": [],
   "source": [
    "fig, ax = plt.subplots(2, 4, figsize=(20, 10))\n",
    "\n",
    "for var, subplot in zip(data_categorical.columns, ax.flatten()):\n",
    "    sns.boxplot(x=var, y='cnt', data=data, ax=subplot)\n",
    "\n",
    "plt.tight_layout()\n",
    "plt.show()"
   ]
  },
  {
   "cell_type": "markdown",
   "metadata": {
    "id": "g2Ry5dgQTMeG"
   },
   "source": [
    "**Висновки з 11-12 завдання (детальні)**"
   ]
  },
  {
   "cell_type": "markdown",
   "metadata": {
    "id": "tWtJbT5sTMeS"
   },
   "source": [
    "1. Було побудовано графіки співвідношення між кожною з числових змінних і цільовою змінною cnt.\n",
    "Графіки показують, як змінюється кількість викликів швидкої допомоги в залежності від значень числових змінних.\n",
    "2. Було побудовано графіки співвідношення boxplot між кожною категоріальною змінною і цільовою змінною cnt.\n",
    "Графіки boxplot дозволяють візуалізувати розподіл кількості викликів швидкої допомоги для кожної категорії категоріальної змінної, а також виявляти потенційні викиди (викиди) у даних. "
   ]
  },
  {
   "cell_type": "markdown",
   "metadata": {
    "id": "pp7mUJyUOFYj"
   },
   "source": [
    "**Завдання 13** Побудувати матрицю кореляції:  \n",
    "\n",
    "1.   Вирахувати кореляційні коефіціенти для набору данних за методом Пірсона\n",
    "2.   Відобразити отриману матрицю коефіціентів у вигляді теплокарти  \n",
    "3.   Вирахувати кореляційні коефіціенти для набору данних за методом Спірмана\n",
    "4.   Відобразити отриману матрицю коефіціентів у вигляді теплокарти\n",
    "5. Описати отримані результати, спираючись на значення коефіціентів кореляції та пояснити в чому відмінність обраних методів."
   ]
  },
  {
   "cell_type": "code",
   "execution_count": null,
   "metadata": {
    "id": "H_jTQTC9OFYk"
   },
   "outputs": [],
   "source": [
    "pearson_corr = data_numerical.corr(method='pearson')\n",
    "\n",
    "plt.figure(figsize=(10, 6))\n",
    "sns.heatmap(pearson_corr, annot=True, cmap='coolwarm', fmt=\".2f\", annot_kws={\"size\": 10})\n",
    "plt.title('Pearson Correlation Matrix')\n",
    "plt.show()\n",
    "\n",
    "spearman_corr = data_numerical.corr(method='spearman')\n",
    "\n",
    "plt.figure(figsize=(10, 6))\n",
    "sns.heatmap(spearman_corr, annot=True, cmap='coolwarm', fmt=\".2f\", annot_kws={\"size\": 10})\n",
    "plt.title('Spearman Correlation Matrix')\n",
    "plt.show()\n"
   ]
  },
  {
   "cell_type": "markdown",
   "metadata": {},
   "source": [
    "Після виконання завдання було отримано дві матриці кореляції: одна за методом Пірсона, а інша - за методом Спірмена.\n",
    "\n",
    "**1. Метод Пірсона:**\n",
    "Були виявлені як позитивні, так і негативні кореляційні зв'язки між числовими змінними.\n",
    "Найбільші кореляції спостерігаються між показниками, що мають логічний зв'язок, наприклад, між температурою та відчуттям температури (temp і atemp).\n",
    "Цей метод враховує тільки лінійні зв'язки між змінними, тому не може виявити нелинійні залежності.\n",
    "\n",
    "**2. Метод Спірмена:**\n",
    "Враховує порядок значень змінних, а не їхні конкретні значення, що робить його менш чутливим до викидів у даних та відсутність лінійності.\n",
    "Якщо зв'язок між змінними не є лінійним, Спірмен може виявити цей зв'язок краще, ніж Пірсон.\n",
    "Отримані кореляційні коефіцієнти Спірмена дають додаткове уявлення про зв'язки між змінними."
   ]
  },
  {
   "cell_type": "markdown",
   "metadata": {
    "id": "f_DldEV1OFYk"
   },
   "source": [
    "**Завдання 14** \n",
    "1. побудувати модель лінійної регресії:\n",
    "2. видалити змінні, які НЕ є релевантними;\n",
    "\n",
    "3. поділити вибірку на `train`, `test` та `validation` в пропорції `70/30`;  \n",
    "\n",
    "4. провести навчання моделі лінійної регресії;"
   ]
  },
  {
   "cell_type": "markdown",
   "metadata": {
    "id": "NIcZXn-wUmJL"
   },
   "source": [
    "1. Для подальшої роботи з моделями для кожної категоріальної змінної ми створимо фіктивні змінні, щоб уникнути неправильного порядку категорій. [get_dummies](https://pandas.pydata.org/pandas-docs/stable/reference/api/pandas.get_dummies.html)"
   ]
  },
  {
   "cell_type": "code",
   "execution_count": 55,
   "metadata": {
    "id": "l7LAkoqcOFYk"
   },
   "outputs": [],
   "source": [
    "def get_dummies(df: pd.DataFrame):\n",
    "    features = pd.concat([df,\n",
    "                          pd.get_dummies(df['season'], prefix='season'),\n",
    "                          ], axis=1)\n",
    "    features = features.drop(['season', 'mnth', 'weekday', 'weathersit'], axis=1)\n",
    "    return features\n",
    "features = get_dummies(data)\n"
   ]
  },
  {
   "cell_type": "code",
   "execution_count": 56,
   "metadata": {
    "id": "Va2Y_GFfOFYk"
   },
   "outputs": [],
   "source": [
    "features = get_dummies(data)"
   ]
  },
  {
   "cell_type": "markdown",
   "metadata": {
    "id": "GyDiLOCwarGI"
   },
   "source": [
    "2. На основі змінної часу створіть нову змінну, яка відповідатиме за день і ніч."
   ]
  },
  {
   "cell_type": "code",
   "execution_count": 57,
   "metadata": {
    "id": "G1w36q_jauUE"
   },
   "outputs": [],
   "source": [
    "# Визначення чи є година \"ніччю\" (1) чи \"денною\" (0)\n",
    "features['night_hours'] = ((data['hr'] >= 22) | (data['hr'] <= 6)).astype(int)\n",
    "features = features.drop('hr', axis=1)"
   ]
  },
  {
   "cell_type": "markdown",
   "metadata": {
    "id": "V9I2zAKpbWGB"
   },
   "source": [
    "**Модель лінійної регрессії  \n",
    "\n",
    "[train_linear_model](https://scikit-learn.org/stable/modules/generated/sklearn.linear_model.LinearRegression.html)"
   ]
  },
  {
   "cell_type": "markdown",
   "metadata": {
    "id": "W4gkM20abtHh"
   },
   "source": [
    "Після отримання фіктивних змінних потрібно видалити по одній з кожної категорії, щоб запобігти мультиколінеарності. Також видаляємо ще два атрибути `date` та `atemp` - поясніть чому?"
   ]
  },
  {
   "cell_type": "code",
   "execution_count": null,
   "metadata": {
    "id": "lLQK9t5eb81Q"
   },
   "outputs": [],
   "source": [
    "features_lr = features.drop(['spring', 'mnth_4', 'weekday_0', 'weathersit_1', 'hr_0'], axis=1)"
   ]
  },
  {
   "cell_type": "code",
   "execution_count": 61,
   "metadata": {
    "id": "IUPl4bsCc0_G"
   },
   "outputs": [],
   "source": [
    "def get_train_data(df: pd.DataFrame, target: str, test_size: float):\n",
    "    X = df.drop(target, axis=1)  # усі ознаки крім цільової змінної\n",
    "    y = df[target]  # цільова змінна\n",
    "    X_train, X_test, y_train, y_test = train_test_split(X, y, test_size=test_size, random_state=42, shuffle=True)\n",
    "    return X_train, X_test, y_train, y_test"
   ]
  },
  {
   "cell_type": "code",
   "execution_count": null,
   "metadata": {
    "id": "Kf2GXp0Odr1w"
   },
   "outputs": [],
   "source": [
    "X_train, X_test, y_train, y_test = get_train_data(features_lr, 'cnt', 0.3)"
   ]
  },
  {
   "cell_type": "code",
   "execution_count": null,
   "metadata": {
    "id": "wFEgPbUHeUTh"
   },
   "outputs": [],
   "source": [
    "def train_linear_model(X_train, y_train):\n",
    "  model = LinearRegression()\n",
    "  model.fit(X_train, y_train)\n",
    "  return model\n",
    "\n",
    "model = train_linear_model(X_train, y_train)"
   ]
  },
  {
   "cell_type": "code",
   "execution_count": null,
   "metadata": {
    "id": "Inc9iPCXfChd"
   },
   "outputs": [],
   "source": [
    "# predict\n",
    "y_train_pred = model.predict(X_train)\n",
    "y_test_pred = model.predict(X_test)\n",
    "# scores\n",
    "print('MSE train: {:.3f}, test: {:.3f}'.format(\n",
    "        mean_squared_error(y_train, y_train_pred),\n",
    "        mean_squared_error(y_test, y_test_pred)))\n",
    "print('R^2 train: {:.3f}, test: {:.3f}'.format(\n",
    "        r2_score(y_train, y_train_pred),\n",
    "        r2_score(y_test, y_test_pred)))"
   ]
  },
  {
   "cell_type": "markdown",
   "metadata": {
    "id": "ycH4zmgTf17J"
   },
   "source": [
    "Оскільки в нашій моделі є багато незалежних змінних, ми не можемо відобразити їх залежність у двовимірному просторі, але ми можемо побудувати графік взаємозв'язку між залишками моделі та передбачуваними значеннями, що також допоможе нам оцінити якість моделі."
   ]
  },
  {
   "cell_type": "code",
   "execution_count": null,
   "metadata": {
    "id": "8g0Q8AZ6f0mY"
   },
   "outputs": [],
   "source": [
    "plt.scatter(y_train_pred,  y_train_pred - y_train,\n",
    "            c='#5f93ad', marker='o', label='Training data')\n",
    "plt.scatter(y_test_pred,  y_test_pred - y_test,\n",
    "            c='#98c3d9', marker='s', label='Test data')\n",
    "plt.xlabel('Predicted values')\n",
    "plt.ylabel('Residuals')\n",
    "plt.legend(loc='upper left')\n",
    "plt.hlines(y=0, xmin=-220, xmax=1000, lw=2, color='#000000')\n",
    "plt.tight_layout()"
   ]
  },
  {
   "cell_type": "markdown",
   "metadata": {
    "id": "FhsJB-8WgM4d"
   },
   "source": [
    "**Висновки з завдання (детальні)**"
   ]
  },
  {
   "cell_type": "markdown",
   "metadata": {
    "id": "AKUUhjrxgM4e"
   },
   "source": [
    "\n",
    "\n",
    "1.   \n",
    "2.   \n",
    "3. ...\n",
    "\n"
   ]
  }
 ],
 "metadata": {
  "colab": {
   "name": "Task4_Regression_basicAI.ipynb",
   "provenance": []
  },
  "kernelspec": {
   "display_name": "Python 3",
   "language": "python",
   "name": "python3"
  },
  "language_info": {
   "codemirror_mode": {
    "name": "ipython",
    "version": 3
   },
   "file_extension": ".py",
   "mimetype": "text/x-python",
   "name": "python",
   "nbconvert_exporter": "python",
   "pygments_lexer": "ipython3",
   "version": "3.12.2"
  }
 },
 "nbformat": 4,
 "nbformat_minor": 4
}
