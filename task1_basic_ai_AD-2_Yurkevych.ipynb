{
  "cells": [
    {
      "cell_type": "markdown",
      "metadata": {
        "id": "HXiPVw_feCSb"
      },
      "source": [
        "## Завдання на лабораторну работу №1\n",
        "\n",
        "В цій лабораторної роботі Вам буде запропоновано вирішити кілька завдань скориставшись засобами мови python. Рішення кожного завдання передбачає написання коду і демонстрація його працездатності на прикладах. За кожне вірно виконане завдання Ви отримуєте **1 бал**.\n",
        "\n",
        "**Роботи ідентифіковані як ІДЕНТИЧНІ одразу отримують 0 балів.**\n",
        "\n",
        "[зверніть увагу на типізацію функцій](https://docs.python.org/3/library/typing.html)\n",
        "\n",
        "```NB```: При написанні коду не забувайте видаляти ```pass```!"
      ]
    },
    {
      "cell_type": "markdown",
      "metadata": {
        "id": "fwu84zLVneAT"
      },
      "source": [
        "**Don't cheat!**"
      ]
    },
    {
      "cell_type": "markdown",
      "metadata": {
        "id": "IPQHbkSueCSf"
      },
      "source": [
        "Перед тим, як надіслати своє завдання на перевірку, вкажіть в назві файлу своє ім'я та прізвище!\n",
        "Наприклад: ```basic_ai_task1_python_ana_de.ipynb```"
      ]
    },
    {
      "cell_type": "markdown",
      "metadata": {
        "id": "OE2qgEaeeCSg"
      },
      "source": [
        "Завдання 1: На вхід функція приймає рядок s. Функція повинна повернути True якщо рядок є паліндромом та False – в протилежному випадку.\n",
        "\n",
        "Наприклад: \n",
        "\n",
        "*   `is_palindrome(s='anade') -> False`\n",
        "*   `is_palindrome(s='ana') -> True`\n",
        "\n",
        "\n"
      ]
    },
    {
      "cell_type": "code",
      "execution_count": null,
      "metadata": {
        "id": "Kkp_Eb1jeCSg"
      },
      "outputs": [],
      "source": [
        "def palindrome(x):\n",
        "    x = x.replace(\" \", \"\").lower()\n",
        "    return x == x[::-1]\n",
        "\n",
        "print(palindrome(x='anade'))\n",
        "print(palindrome(x='ana'))  "
      ]
    },
    {
      "cell_type": "markdown",
      "metadata": {
        "id": "IyJBIte7eCSh"
      },
      "source": [
        "Завдання 2: Розв’язати квадратне рівняння $ax^2+bx + c = 0$.  Напишіть функцію,яка приймає параметри квадратного рівняння, а повертає одне рішення або декілька.\n",
        "\n",
        "Наприклад:  \n",
        "\n",
        "\n",
        "```\n",
        "solve_quad(a=1, b=-2, c=1) -> 1  \n",
        "solve_quad(a=1, b=0, c=-1) -> (-1, 1)  \n",
        "solve_quad(a=0, b=2, c=-1) -> 0.5\n",
        "```\n",
        "\n",
        "\n",
        "\n",
        "\n",
        "\n",
        " "
      ]
    },
    {
      "cell_type": "code",
      "execution_count": 38,
      "metadata": {
        "id": "T-fCGsPjeCSh"
      },
      "outputs": [
        {
          "name": "stdout",
          "output_type": "stream",
          "text": [
            "1.0\n",
            "(-1.0, 1.0)\n",
            "0.5\n"
          ]
        }
      ],
      "source": [
        "import math\n",
        "def solve_quad(a: float, b: float, c: float):\n",
        "    \n",
        "    if a == 0:\n",
        "        if b != 0:\n",
        "            root = -c / b\n",
        "            return root\n",
        "        else:\n",
        "            if c == 0:\n",
        "                return \"Багато коренів\"\n",
        "            else:\n",
        "                return \"Немає розв'язку\"\n",
        "  \n",
        "    d = b ** 2 - 4 * a * c\n",
        "  \n",
        "    if d < 0:\n",
        "        return None\n",
        "    elif d == 0:\n",
        "        root = -b / (2 * a)\n",
        "        return root\n",
        "    else:\n",
        "        root1 = (-b - math.sqrt(d)) / (2 * a)\n",
        "        root2 = (-b + math.sqrt(d)) / (2 * a)\n",
        "        return root1, root2\n",
        "\n",
        "\n",
        "print(solve_quad(a=1, b=-2, c=1))   # 1\n",
        "print(solve_quad(a=1, b=0, c=-1))    # (-1, 1)\n",
        "print(solve_quad(a=0, b=2, c=-1))    # 0.5\n"
      ]
    },
    {
      "cell_type": "markdown",
      "metadata": {
        "id": "XTXSIYdYeCSh"
      },
      "source": [
        "Завдання 3: Реалізація функції merge. На вхід функція приймає 2 відсортованих масиви - `a` і `b`. Функція повинна повернути один відсортований масив, який містить всі елементи масивів `a` і `b`. \n",
        "\n",
        "Наприклад: `merge([1, 3, 3, 5], [3, 5, 5, 7]) -> [1, 3, 3, 3, 5, 5, 5, 7]`"
      ]
    },
    {
      "cell_type": "code",
      "execution_count": 49,
      "metadata": {
        "id": "nfXKB-nveCSh"
      },
      "outputs": [
        {
          "name": "stdout",
          "output_type": "stream",
          "text": [
            "[1, 3, 3, 3, 5, 5, 5, 7]\n"
          ]
        }
      ],
      "source": [
        "from typing import List\n",
        "\n",
        "def merge(a: List[int], b: List[int]) -> List[int]:\n",
        "    merged = []\n",
        "    p = 0\n",
        "    u = 0\n",
        " \n",
        "    while p < len(a) and u < len(b):\n",
        "        if a[p] <= b[u]:\n",
        "            merged.append(a[p])\n",
        "            p += 1\n",
        "        else:\n",
        "            merged.append(b[u])\n",
        "            u += 1\n",
        "\n",
        "    while p < len(a):\n",
        "        merged.append(a[p])\n",
        "        p += 1\n",
        "\n",
        "    while u < len(b):\n",
        "        merged.append(b[u])\n",
        "        u += 1\n",
        "    \n",
        "    return merged\n",
        "\n",
        "print(merge([1, 3, 3, 5], [3, 5, 5, 7]))\n"
      ]
    },
    {
      "cell_type": "markdown",
      "metadata": {
        "id": "Z4zl4_cNeCSi"
      },
      "source": [
        "Завдання 4: Реалізація алгоритму [MergeSort](https://ru.wikipedia.org/wiki/%D0%A1%D0%BE%D1%80%D1%82%D0%B8%D1%80%D0%BE%D0%B2%D0%BA%D0%B0_%D1%81%D0%BB%D0%B8%D1%8F%D0%BD%D0%B8%D0%B5%D0%BC)..\n",
        "\n",
        "Наприклад: `MergeSort([3, 1, 3, 5]) -> [1, 3, 3, 5]`"
      ]
    },
    {
      "cell_type": "code",
      "execution_count": 51,
      "metadata": {
        "id": "VhDE9sTyeCSi"
      },
      "outputs": [
        {
          "name": "stdout",
          "output_type": "stream",
          "text": [
            "[1, 3, 3, 5]\n",
            "[1, 2, 3, 3, 6, 8]\n"
          ]
        }
      ],
      "source": [
        "from typing import List\n",
        "\n",
        "def merge(left: List[int], right: List[int]) -> List[int]:\n",
        "    merged = []\n",
        "    p = u = 0\n",
        "\n",
        "    while p < len(left) and u < len(right):\n",
        "        if left[p] <= right[u]:\n",
        "            merged.append(left[p])\n",
        "            p += 1\n",
        "        else:\n",
        "            merged.append(right[u])\n",
        "            u += 1\n",
        "\n",
        "    merged.extend(left[p:])\n",
        "    merged.extend(right[u:])\n",
        "    return merged\n",
        "\n",
        "def MergeSort(L: List[int]) -> List[int]:\n",
        "    if len(L) <= 1:\n",
        "        return L\n",
        "    mid = len(L) // 2\n",
        "    left_sorted = MergeSort(L[:mid])\n",
        "    right_sorted = MergeSort(L[mid:])\n",
        "    return merge(left_sorted, right_sorted)\n",
        "\n",
        "print(MergeSort([3, 1, 3, 5]))\n",
        "print(MergeSort([6, 2, 1, 8, 3, 3]))"
      ]
    },
    {
      "cell_type": "markdown",
      "metadata": {
        "id": "oiEEW3IKeCSj"
      },
      "source": [
        "## Знайомство з numpy."
      ]
    },
    {
      "cell_type": "markdown",
      "metadata": {
        "id": "eEtj358ceCSj"
      },
      "source": [
        "Всі завдання з цієї частини передбачають написання функції на мові Python, а так само приклади роботи цієї функції. При реалізації завдань потрібно використовувати методи з бібліотеки `numpy`. Рішення з циклами будуть оцінені в 0 балів.\n",
        "\n",
        "[базова документація](http://www.numpy.org)\n",
        "\n",
        "```NB```: Під матрицею розуміється двовимірний [numpy.array](https://docs.scipy.org/doc/numpy/reference/generated/numpy.array.html)\n",
        "\n",
        "Для підключення модуля скористайтеся наступним рядком. \n",
        "Використовуйте стандартне скорочення np."
      ]
    },
    {
      "cell_type": "code",
      "execution_count": 1,
      "metadata": {
        "id": "tpv_AzJzeCSj"
      },
      "outputs": [],
      "source": [
        "import numpy as np"
      ]
    },
    {
      "cell_type": "markdown",
      "metadata": {
        "id": "syBtY_AReCSj"
      },
      "source": [
        "Cтворення одномірного і двомірного масивів методами numpy:"
      ]
    },
    {
      "cell_type": "code",
      "execution_count": 2,
      "metadata": {
        "id": "yfm0zbHJeCSj",
        "outputId": "e896f45e-df10-4364-f796-10032bd467cd"
      },
      "outputs": [
        {
          "name": "stdout",
          "output_type": "stream",
          "text": [
            "[1. 2. 3.]\n"
          ]
        }
      ],
      "source": [
        "Ar1d = np.array([1, 2, 3], dtype=np.float64)\n",
        "print(Ar1d)"
      ]
    },
    {
      "cell_type": "code",
      "execution_count": 3,
      "metadata": {
        "id": "NO1tV1fteCSk",
        "outputId": "59fedd1c-9b1b-43a9-a689-822c7efb3927"
      },
      "outputs": [
        {
          "name": "stdout",
          "output_type": "stream",
          "text": [
            "[[1. 2.]\n",
            " [3. 4.]]\n"
          ]
        }
      ],
      "source": [
        "Ar2d = np.array([[1, 2],\n",
        "                [3, 4]], dtype=np.float64)\n",
        "print(Ar2d)"
      ]
    },
    {
      "cell_type": "markdown",
      "metadata": {
        "id": "NZns18uoeCSk"
      },
      "source": [
        "Завдання 6: Написати функцію яка на вхід приймає 3 масиви – `X, Y, Z`. функція повертатиме `True` у випадку, коли вони рівні та `False` – якщо ні.\n",
        "\n",
        "Рекомендація до завдання: Не використовуйте оператор `==`"
      ]
    },
    {
      "cell_type": "code",
      "execution_count": 1,
      "metadata": {
        "id": "nzv5GOlqeCSl"
      },
      "outputs": [
        {
          "name": "stdout",
          "output_type": "stream",
          "text": [
            "True\n",
            "False\n"
          ]
        }
      ],
      "source": [
        "import numpy as np\n",
        "\n",
        "def is_equal(X, Y, Z):\n",
        "    return np.array_equal(X, Y) and np.array_equal(X, Z)\n",
        "\n",
        "X = [1, 2, 3]\n",
        "Y = [1, 2, 3]\n",
        "Z = [1, 2, 3]\n",
        "print(is_equal(X, Y, Z))\n",
        "\n",
        "X = [3, 2, 3]\n",
        "Y = [6, 5, 3]\n",
        "Z = [3, 2, 3]\n",
        "print(is_equal(X, Y, Z))\n"
      ]
    },
    {
      "cell_type": "markdown",
      "metadata": {
        "id": "4vYN-bnIeCSl"
      },
      "source": [
        "Завдання 7: написати функцію, яка приймає на вході вектор рядок, а повертає вектор стовбець.\n",
        "\n",
        "Рекомендація до завдання: Забороняється використовувати операцію транспонування! Скористайтесь методом `reshape`."
      ]
    },
    {
      "cell_type": "code",
      "execution_count": 17,
      "metadata": {
        "id": "cwnufrdPeCSl"
      },
      "outputs": [
        {
          "name": "stdout",
          "output_type": "stream",
          "text": [
            "[[2]\n",
            " [2]\n",
            " [1]\n",
            " [4]]\n"
          ]
        }
      ],
      "source": [
        "import numpy as np\n",
        "\n",
        "def rot_vec(x):\n",
        "    return x.reshape(len(x), 1)\n",
        "\n",
        "p = np.array([2, 2, 1, 4])\n",
        "u = rot_vec(p)\n",
        "\n",
        "print(u)\n"
      ]
    },
    {
      "cell_type": "markdown",
      "metadata": {
        "id": "uvi-JOAheCSl"
      },
      "source": [
        "Завдання 8: Написати функцію яка приймає на вхід двовимірний масив, а повертає масив з діагональними елементами цієї матриці. \n",
        "\n",
        "Наприклад: `[[1, 2], [3, 4]] -> [1 4]`"
      ]
    },
    {
      "cell_type": "code",
      "execution_count": 25,
      "metadata": {
        "id": "uBSPXOJkeCSl"
      },
      "outputs": [
        {
          "name": "stdout",
          "output_type": "stream",
          "text": [
            "[1 2 9]\n"
          ]
        }
      ],
      "source": [
        "import numpy as np\n",
        "\n",
        "def get_diag(x):\n",
        "    return np.diag(x)\n",
        "\n",
        "p = np.array([  [1, 2, 3],\n",
        "                [4, 2, 6],\n",
        "                [7, 1, 9],])\n",
        "\n",
        "u = get_diag(p)\n",
        "print(u)\n"
      ]
    },
    {
      "cell_type": "markdown",
      "metadata": {
        "id": "PvwgIU1veCSm"
      },
      "source": [
        "Завдання 9: Написати функцію яка приймає на вхід двомірний масив, а повертає масив елементів які знаходяться на другорядній діагоналі. Приклад: `[[1, 2], [3, 4]] -> [2 3]`"
      ]
    },
    {
      "cell_type": "code",
      "execution_count": 29,
      "metadata": {
        "id": "zIRKjQofeCSm"
      },
      "outputs": [
        {
          "name": "stdout",
          "output_type": "stream",
          "text": [
            "[3 5 7]\n"
          ]
        }
      ],
      "source": [
        "import numpy as np\n",
        "\n",
        "def sec_diag(x):\n",
        "    flipped = np.fliplr(x)\n",
        "    return np.diag(flipped)\n",
        "\n",
        "p = np.array([  [1, 2, 3],\n",
        "                [4, 5, 6],\n",
        "                [7, 8, 9]])\n",
        "\n",
        "u = sec_diag(p)\n",
        "print(u)\n"
      ]
    },
    {
      "cell_type": "markdown",
      "metadata": {
        "id": "TQ61tk7SeCSm"
      },
      "source": [
        "## Робота з бібліотекою pandas\n",
        "\n",
        "В наступній частині лабораторної роботи розглянемо бібліотеку pandas.\n",
        "Перед виконанням цієї частини необхідно завантажити датасет `titanic.csv`\n",
        "\n",
        "[основна документація цього розділу](https://pandas.pydata.org/)"
      ]
    },
    {
      "cell_type": "code",
      "execution_count": null,
      "metadata": {
        "id": "Fbe_qcF0eCSm"
      },
      "outputs": [],
      "source": [
        "import pandas as pd\n",
        "\n",
        "# Завантажте датасет. Ознайомтесь з тим як це правильно зробити, уважно прочитавши документацію по функції pd.read_csv.\n",
        "# Зверніть особливу увагу на роздільники датасета. \n",
        "\n",
        "dataset = pd.read_csv(...)"
      ]
    },
    {
      "cell_type": "markdown",
      "metadata": {
        "id": "qTxYBLWdeCSm"
      },
      "source": [
        "Завдання 10: Кого більше - чоловіків чи жінок?"
      ]
    },
    {
      "cell_type": "code",
      "execution_count": null,
      "metadata": {
        "id": "58MgIBEleCSm"
      },
      "outputs": [],
      "source": [
        "#code"
      ]
    },
    {
      "cell_type": "markdown",
      "metadata": {
        "id": "ApLZCvNveCSm"
      },
      "source": [
        "Завдання 11: Виведіть наступні характеристики пасажирів: середній вік пасажирів, середній вік чоловіків, середній вік жінок, максимальний і мінімальний вік серед чоловіків і жінок."
      ]
    },
    {
      "cell_type": "code",
      "execution_count": null,
      "metadata": {
        "id": "Sg59NcqLeCSn"
      },
      "outputs": [],
      "source": [
        "#code"
      ]
    },
    {
      "cell_type": "markdown",
      "metadata": {
        "id": "P5zkuX9VeCSn"
      },
      "source": [
        " ## Знайомство з бібліотекою matplotlib "
      ]
    },
    {
      "cell_type": "markdown",
      "metadata": {
        "id": "cYyqxB4MeCSn"
      },
      "source": [
        "Для початку ознайомтесь з [документацією](https://matplotlib.org/)"
      ]
    },
    {
      "cell_type": "markdown",
      "metadata": {
        "id": "pEt3gexreCSn"
      },
      "source": [
        "Завдання 12: Побудувати задані функції: \n",
        "\n",
        "$f_{1}(x) =  \\frac{sin(x)}{x}$\n",
        "\n",
        "$f_{2}(x) =  \\frac{cos(x)}{x^2 + 1}$\n",
        "\n",
        "$f_{3}(x) =  cos^2(x) - \\frac{sin(x)}{2}$  \n",
        "\n",
        "$f_{4}(x) =  cos(x)$  \n",
        "\n",
        "$f_{5}(x) =  \\frac{sin(x)}{x^2 + 1}$"
      ]
    },
    {
      "cell_type": "markdown",
      "metadata": {
        "id": "WKoZNPOfJ_nC"
      },
      "source": [
        "зробити візуалізацію заданих функцій  "
      ]
    },
    {
      "cell_type": "code",
      "execution_count": null,
      "metadata": {
        "id": "YVT6yXXqeCSn"
      },
      "outputs": [],
      "source": [
        "from matplotlib import pylab as plt\n",
        "%matplotlib inline"
      ]
    },
    {
      "cell_type": "code",
      "execution_count": null,
      "metadata": {
        "id": "ki86Yt_XeCSo"
      },
      "outputs": [],
      "source": [
        "#code"
      ]
    },
    {
      "cell_type": "code",
      "execution_count": null,
      "metadata": {
        "id": "70fOVYjJeCSo"
      },
      "outputs": [],
      "source": [
        "#code"
      ]
    },
    {
      "cell_type": "markdown",
      "metadata": {
        "id": "Tg-QmR-eeCSp"
      },
      "source": [
        "Завдання 13: Побудувати графік щільності розподілу випадкової змінної."
      ]
    },
    {
      "cell_type": "markdown",
      "metadata": {
        "id": "fOxQ9EsYJ_nH"
      },
      "source": [
        "зробити візуалізації"
      ]
    },
    {
      "cell_type": "code",
      "execution_count": null,
      "metadata": {
        "id": "9Av3YD1NeCSp"
      },
      "outputs": [],
      "source": [
        "#code"
      ]
    },
    {
      "cell_type": "markdown",
      "metadata": {
        "id": "Rd4OLxTjl1kj"
      },
      "source": [
        "**Кожне завдання лабораторної роботи оцінюється в 1 бал (за умов правильного виконання)!!!!**\n",
        "\n",
        "**Робота, яка ідентифікована як ПЛАГІАТ, буде оцінюватись в 0 балів!!!**\n",
        "\n",
        "**Вибірково виконані завдання оцінюватись не будуть!!!**"
      ]
    }
  ],
  "metadata": {
    "colab": {
      "collapsed_sections": [],
      "name": "task1_basic_ai_AD.ipynb",
      "provenance": []
    },
    "kernelspec": {
      "display_name": "Python 3",
      "language": "python",
      "name": "python3"
    },
    "language_info": {
      "codemirror_mode": {
        "name": "ipython",
        "version": 3
      },
      "file_extension": ".py",
      "mimetype": "text/x-python",
      "name": "python",
      "nbconvert_exporter": "python",
      "pygments_lexer": "ipython3",
      "version": "3.12.2"
    }
  },
  "nbformat": 4,
  "nbformat_minor": 0
}
